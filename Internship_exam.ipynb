{
 "cells": [
  {
   "cell_type": "code",
   "execution_count": 4,
   "id": "68b789cc",
   "metadata": {},
   "outputs": [],
   "source": [
    "import pandas as pd\n",
    "import glob\n",
    "\n",
    "files = ['movies.csv', 'ratings.csv', 'links.csv', 'tags.csv']"
   ]
  },
  {
   "cell_type": "code",
   "execution_count": 5,
   "id": "9175deb6",
   "metadata": {},
   "outputs": [],
   "source": [
    "dfs = []\n",
    "for file in files:\n",
    "    df = pd.read_csv(file)\n",
    "    dfs.append(df)"
   ]
  },
  {
   "cell_type": "code",
   "execution_count": 9,
   "id": "8bba015e",
   "metadata": {},
   "outputs": [
    {
     "name": "stdout",
     "output_type": "stream",
     "text": [
      "DataFrame 1 ((9742, 3)):\n",
      "DataFrame 2 ((100836, 4)):\n",
      "DataFrame 3 ((9742, 3)):\n",
      "DataFrame 4 ((3683, 4)):\n"
     ]
    }
   ],
   "source": [
    "for i, df in enumerate(dfs):\n",
    "    print(f\"DataFrame {i+1} ({df.shape}):\")"
   ]
  },
  {
   "cell_type": "code",
   "execution_count": 12,
   "id": "48f16b90",
   "metadata": {},
   "outputs": [
    {
     "name": "stdout",
     "output_type": "stream",
     "text": [
      "Number of unique user IDs in ratings.csv: 610\n"
     ]
    }
   ],
   "source": [
    "df = pd.DataFrame(dfs[1])\n",
    "\n",
    "# Count the number of unique user IDs\n",
    "n_unique_users = df['userId'].nunique()\n",
    "\n",
    "# Print the result\n",
    "print(f\"Number of unique user IDs in ratings.csv: {n_unique_users}\")"
   ]
  },
  {
   "cell_type": "code",
   "execution_count": 16,
   "id": "901ea6ff",
   "metadata": {},
   "outputs": [
    {
     "name": "stdout",
     "output_type": "stream",
     "text": [
      "Movie ID with the most ratings is at movie id: 356\n"
     ]
    }
   ],
   "source": [
    "movie_ratings_count = df.groupby('movieId')['userId'].count()\n",
    "\n",
    "# Find the movie with the most ratings\n",
    "movie_id_with_max_ratings = movie_ratings_count.idxmax()\n",
    "\n",
    "# Print the result\n",
    "print(f\"Movie ID with the most ratings is at movie id: {movie_id_with_max_ratings}\")\n"
   ]
  },
  {
   "cell_type": "code",
   "execution_count": 22,
   "id": "96026561",
   "metadata": {},
   "outputs": [
    {
     "name": "stdout",
     "output_type": "stream",
     "text": [
      "      movieId  count  mean_rating                             title  \\\n",
      "0           1    215     3.920930                  Toy Story (1995)   \n",
      "1           2    110     3.431818                    Jumanji (1995)   \n",
      "2           3     52     3.259615           Grumpier Old Men (1995)   \n",
      "5           6    102     3.946078                       Heat (1995)   \n",
      "6           7     54     3.185185                    Sabrina (1995)   \n",
      "...       ...    ...          ...                               ...   \n",
      "8287   106782     54     3.916667   Wolf of Wall Street, The (2013)   \n",
      "8354   109374     52     3.778846  Grand Budapest Hotel, The (2014)   \n",
      "8358   109487     73     3.993151               Interstellar (2014)   \n",
      "8457   112852     59     4.050847    Guardians of the Galaxy (2014)   \n",
      "8673   122904     54     3.833333                   Deadpool (2016)   \n",
      "\n",
      "                                           genres  \n",
      "0     Adventure|Animation|Children|Comedy|Fantasy  \n",
      "1                      Adventure|Children|Fantasy  \n",
      "2                                  Comedy|Romance  \n",
      "5                           Action|Crime|Thriller  \n",
      "6                                  Comedy|Romance  \n",
      "...                                           ...  \n",
      "8287                           Comedy|Crime|Drama  \n",
      "8354                                 Comedy|Drama  \n",
      "8358                                  Sci-Fi|IMAX  \n",
      "8457                      Action|Adventure|Sci-Fi  \n",
      "8673               Action|Adventure|Comedy|Sci-Fi  \n",
      "\n",
      "[436 rows x 5 columns]\n"
     ]
    }
   ],
   "source": [
    "import pandas as pd\n",
    "\n",
    "# 1. Load the datasets\n",
    "ratings_df = pd.read_csv('ratings.csv')\n",
    "movies_df = pd.read_csv('movies.csv')\n",
    "tags_df = pd.read_csv('tags.csv')\n",
    "links_df = pd.read_csv('links.csv')\n",
    "\n",
    "# 2. Group ratings by movieId, count ratings, and calculate mean rating\n",
    "grouped_ratings = ratings_df.groupby('movieId').agg(count=('userId', 'count'), mean_rating=('rating', 'mean'))\n",
    "\n",
    "# 3. Inner join grouped ratings with movies DataFrame\n",
    "joined_df = grouped_ratings.merge(movies_df, on='movieId', how='inner')\n",
    "\n",
    "# 4. Filter movies with more than 50 ratings\n",
    "filtered_df = joined_df[joined_df['count'] > 50]\n",
    "\n",
    "# Print the filtered DataFrame\n",
    "print(filtered_df)\n"
   ]
  },
  {
   "cell_type": "code",
   "execution_count": 18,
   "id": "edd52add",
   "metadata": {},
   "outputs": [
    {
     "name": "stdout",
     "output_type": "stream",
     "text": [
      "Most popular movie based on average rating:\n",
      "movieId                                     318\n",
      "count                                       317\n",
      "mean_rating                            4.429022\n",
      "title          Shawshank Redemption, The (1994)\n",
      "genres                              Crime|Drama\n",
      "Name: 277, dtype: object\n"
     ]
    }
   ],
   "source": [
    "import pandas as pd\n",
    "\n",
    "# 1. Load the datasets\n",
    "ratings_df = pd.read_csv('ratings.csv')\n",
    "movies_df = pd.read_csv('movies.csv')\n",
    "\n",
    "# 2. Group ratings by movieId, count ratings, and calculate mean rating\n",
    "grouped_ratings = ratings_df.groupby('movieId').agg(count=('userId', 'count'), mean_rating=('rating', 'mean'))\n",
    "\n",
    "# 3. Inner join grouped ratings with movies DataFrame\n",
    "joined_df = grouped_ratings.merge(movies_df, on='movieId', how='inner')\n",
    "\n",
    "# 4. Filter movies with more than 50 ratings\n",
    "filtered_df = joined_df[joined_df['count'] > 50]\n",
    "\n",
    "# 5. Sort by average rating in descending order\n",
    "sorted_df = filtered_df.sort_values(by='mean_rating', ascending=False)\n",
    "\n",
    "# 6. Print the most popular movie based on average rating\n",
    "print(\"Most popular movie based on average rating:\")\n",
    "print(sorted_df.iloc[0])  # Print the first row (movie with highest average rating)\n"
   ]
  },
  {
   "cell_type": "code",
   "execution_count": 19,
   "id": "45cb37f3",
   "metadata": {},
   "outputs": [
    {
     "name": "stdout",
     "output_type": "stream",
     "text": [
      "Top 5 popular movies based on number of ratings:\n",
      "      movieId  count  mean_rating                             title  \\\n",
      "314       356    329     4.164134               Forrest Gump (1994)   \n",
      "277       318    317     4.429022  Shawshank Redemption, The (1994)   \n",
      "257       296    307     4.197068               Pulp Fiction (1994)   \n",
      "510       593    279     4.161290  Silence of the Lambs, The (1991)   \n",
      "1938     2571    278     4.192446                Matrix, The (1999)   \n",
      "\n",
      "                           genres  \n",
      "314      Comedy|Drama|Romance|War  \n",
      "277                   Crime|Drama  \n",
      "257   Comedy|Crime|Drama|Thriller  \n",
      "510         Crime|Horror|Thriller  \n",
      "1938       Action|Sci-Fi|Thriller  \n"
     ]
    }
   ],
   "source": [
    "sorted_df = filtered_df.sort_values(by='count', ascending=False)\n",
    "\n",
    "# 6. Print the top 5 popular movies based on number of ratings\n",
    "print(\"Top 5 popular movies based on number of ratings:\")\n",
    "print(sorted_df.head(5))  # Print the top 5 rows"
   ]
  },
  {
   "cell_type": "code",
   "execution_count": 20,
   "id": "e7fcea8e",
   "metadata": {},
   "outputs": [
    {
     "name": "stdout",
     "output_type": "stream",
     "text": [
      "Third most popular Sci-Fi movie:\n",
      "movieId                                     480\n",
      "count                                       238\n",
      "mean_rating                                3.75\n",
      "title                      Jurassic Park (1993)\n",
      "genres         Action|Adventure|Sci-Fi|Thriller\n",
      "Name: 418, dtype: object\n"
     ]
    }
   ],
   "source": [
    "# 5. Sort by count of ratings in descending order\n",
    "sorted_df = filtered_df.sort_values(by='count', ascending=False)\n",
    "\n",
    "# 6. Filter for Sci-Fi movies\n",
    "scifi_movies = sorted_df[sorted_df['genres'].str.contains('Sci-Fi')]\n",
    "\n",
    "# 7. Print the third most popular Sci-Fi movie\n",
    "print(\"Third most popular Sci-Fi movie:\")\n",
    "print(scifi_movies.iloc[2])  # Access the third row (index 2)"
   ]
  },
  {
   "cell_type": "code",
   "execution_count": 21,
   "id": "3d49b42f",
   "metadata": {},
   "outputs": [
    {
     "name": "stdout",
     "output_type": "stream",
     "text": [
      "Movie with the highest IMDb rating:\n",
      "movieId     193587.0\n",
      "imdbId     8391976.0\n",
      "tmdbId      483455.0\n",
      "Name: 9740, dtype: float64\n"
     ]
    }
   ],
   "source": [
    "import pandas as pd\n",
    "\n",
    "# 1. Load the movies dataset\n",
    "movies_df = pd.read_csv('links.csv')\n",
    "\n",
    "# 2. Sort movies by IMDb rating in descending order\n",
    "sorted_df = movies_df.sort_values(by='imdbId', ascending=False)\n",
    "\n",
    "# 3. Print the movie with the highest IMDb rating\n",
    "print(\"Movie with the highest IMDb rating:\")\n",
    "print(sorted_df.iloc[0])  # Access the first row (movie with highest rating)"
   ]
  },
  {
   "cell_type": "code",
   "execution_count": 26,
   "id": "f6d7a7ee",
   "metadata": {},
   "outputs": [
    {
     "name": "stdout",
     "output_type": "stream",
     "text": [
      "MovieId of the Sci-Fi movie with the highest IMDb rating:\n",
      "1240\n"
     ]
    }
   ],
   "source": [
    "import pandas as pd\n",
    "\n",
    "# 1. Load the movies dataset\n",
    "movies_df = pd.read_csv('tags.csv')\n",
    "\n",
    "# 2. Select Sci-Fi movies\n",
    "scifi_movies = movies_df[movies_df['tag'].str.contains('Sci-Fi')]\n",
    "\n",
    "# 3. Sort Sci-Fi movies by IMDb rating in descending order\n",
    "sorted_df = scifi_movies.sort_values(by='movieId', ascending=False)\n",
    "\n",
    "# 4. Print the movieId of the top Sci-Fi movie\n",
    "print(\"MovieId of the Sci-Fi movie with the highest IMDb rating:\")\n",
    "print(sorted_df.iloc[0]['movieId'])  # Access the first row (movie with highest rating) and extract the movieId\n"
   ]
  },
  {
   "cell_type": "code",
   "execution_count": null,
   "id": "1a160959",
   "metadata": {},
   "outputs": [],
   "source": []
  }
 ],
 "metadata": {
  "kernelspec": {
   "display_name": "Python 3 (ipykernel)",
   "language": "python",
   "name": "python3"
  },
  "language_info": {
   "codemirror_mode": {
    "name": "ipython",
    "version": 3
   },
   "file_extension": ".py",
   "mimetype": "text/x-python",
   "name": "python",
   "nbconvert_exporter": "python",
   "pygments_lexer": "ipython3",
   "version": "3.9.12"
  }
 },
 "nbformat": 4,
 "nbformat_minor": 5
}
